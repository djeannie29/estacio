{
 "cells": [
  {
   "cell_type": "code",
   "execution_count": 1,
   "id": "aa135d8d-1240-4df4-a817-a8d6bac300f2",
   "metadata": {},
   "outputs": [
    {
     "name": "stdout",
     "output_type": "stream",
     "text": [
      "Dedicação sempre!\n"
     ]
    }
   ],
   "source": [
    "print(\"Dedicação sempre!\")"
   ]
  },
  {
   "cell_type": "code",
   "execution_count": 3,
   "id": "cf63a857-f25e-4647-8eec-2329d275802b",
   "metadata": {},
   "outputs": [
    {
     "name": "stdout",
     "output_type": "stream",
     "text": [
      "A soma vale: 30\n"
     ]
    }
   ],
   "source": [
    "a=10\n",
    "b=20\n",
    "print(\"A soma vale:\",(a+b))"
   ]
  },
  {
   "cell_type": "code",
   "execution_count": null,
   "id": "38e5c12a-e1b7-43da-968c-5ee8982d796f",
   "metadata": {},
   "outputs": [],
   "source": []
  }
 ],
 "metadata": {
  "kernelspec": {
   "display_name": "Python 3 (ipykernel)",
   "language": "python",
   "name": "python3"
  },
  "language_info": {
   "codemirror_mode": {
    "name": "ipython",
    "version": 3
   },
   "file_extension": ".py",
   "mimetype": "text/x-python",
   "name": "python",
   "nbconvert_exporter": "python",
   "pygments_lexer": "ipython3",
   "version": "3.9.13"
  }
 },
 "nbformat": 4,
 "nbformat_minor": 5
}
