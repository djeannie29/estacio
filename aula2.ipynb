{
 "cells": [
  {
   "cell_type": "code",
   "execution_count": 4,
   "id": "e93e46c6-e1c4-4e18-a7ca-d14ea9eb857f",
   "metadata": {},
   "outputs": [
    {
     "name": "stdout",
     "output_type": "stream",
     "text": [
      "a= 50\n",
      "b= 120\n",
      "A soma de a e B vale= 170\n"
     ]
    }
   ],
   "source": [
    "a=50\n",
    "b=120\n",
    "print(\"a=\",a)\n",
    "print(\"b=\",b)\n",
    "print(\"A soma de a e B vale=\",(a+b))\n"
   ]
  },
  {
   "cell_type": "code",
   "execution_count": 5,
   "id": "cf63a857-f25e-4647-8eec-2329d275802b",
   "metadata": {},
   "outputs": [
    {
     "name": "stdout",
     "output_type": "stream",
     "text": [
      "a= 50\n",
      "b= 120\n",
      "A soma de a e B vale= 170\n"
     ]
    }
   ],
   "source": [
    "a=50\n",
    "b=120\n",
    "print(\"a=\",a),print(\"b=\",b)\n",
    "print(\"A soma de a e B vale=\",(a+b))"
   ]
  },
  {
   "cell_type": "code",
   "execution_count": 6,
   "id": "38e5c12a-e1b7-43da-968c-5ee8982d796f",
   "metadata": {},
   "outputs": [
    {
     "name": "stdout",
     "output_type": "stream",
     "text": [
      "a= 50\n",
      "b= 120\n",
      "A soma de a e B vale= 170\n"
     ]
    }
   ],
   "source": [
    "a=50\n",
    "b=120\n",
    "print(\"a=\",a);print(\"b=\",b)\n",
    "print(\"A soma de a e B vale=\",(a+b))"
   ]
  },
  {
   "cell_type": "code",
   "execution_count": 7,
   "id": "7889d31b-1d4b-4208-8c3a-1ad5f252077b",
   "metadata": {},
   "outputs": [
    {
     "name": "stdout",
     "output_type": "stream",
     "text": [
      "a= 50\n",
      "b= 120\n",
      "A soma de a e B vale= 170\n"
     ]
    }
   ],
   "source": [
    "a=50; b=120\n",
    "print(\"a=\",a), print(\"b=\",b)\n",
    "print(\"A soma de a e B vale=\",(a+b))"
   ]
  },
  {
   "cell_type": "code",
   "execution_count": 8,
   "id": "3677b015-28ff-460f-9a93-43a6f0aa7f01",
   "metadata": {},
   "outputs": [
    {
     "ename": "SyntaxError",
     "evalue": "cannot assign to literal (3032467614.py, line 1)",
     "output_type": "error",
     "traceback": [
      "\u001b[1;36m  File \u001b[1;32m\"C:\\Users\\denis\\AppData\\Local\\Temp\\ipykernel_26840\\3032467614.py\"\u001b[1;36m, line \u001b[1;32m1\u001b[0m\n\u001b[1;33m    a=50, b=120\u001b[0m\n\u001b[1;37m      ^\u001b[0m\n\u001b[1;31mSyntaxError\u001b[0m\u001b[1;31m:\u001b[0m cannot assign to literal\n"
     ]
    }
   ],
   "source": [
    "a=50, b=120\n",
    "print(\"a=\",a), print(\"b=\",b)\n",
    "print(\"A soma de a e B vale=\",(a+b))"
   ]
  },
  {
   "cell_type": "code",
   "execution_count": 10,
   "id": "ca0b7d68-ee8e-4c20-aba8-7a8526e8b722",
   "metadata": {},
   "outputs": [
    {
     "name": "stdout",
     "output_type": "stream",
     "text": [
      "a= 50\n",
      "b= 120\n",
      "A soma de a e B vale= 170\n"
     ]
    }
   ],
   "source": [
    "a=50; b=120;print(\"a=\",a);print(\"b=\",b)\n",
    "print(\"A soma de a e B vale=\",(a+b))"
   ]
  },
  {
   "cell_type": "code",
   "execution_count": 11,
   "id": "144cb729-0925-430c-8872-63b317dccb60",
   "metadata": {},
   "outputs": [
    {
     "name": "stdout",
     "output_type": "stream",
     "text": [
      "a= 50\n",
      "b= 120\n",
      "A soma de a e B vale= 170\n"
     ]
    }
   ],
   "source": [
    "a=50; b=120;print(\"a=\",a),print(\"b=\",b)\n",
    "print(\"A soma de a e B vale=\",(a+b))"
   ]
  },
  {
   "cell_type": "code",
   "execution_count": 15,
   "id": "ced940e1-c0d8-46e4-80ae-3c2199655984",
   "metadata": {},
   "outputs": [
    {
     "name": "stdout",
     "output_type": "stream",
     "text": [
      "a= 50 b= 120\n"
     ]
    }
   ],
   "source": [
    "a=50; b=120;\n",
    "print(\"a=\",a,end=\" \"),print(\"b=\",b);"
   ]
  },
  {
   "cell_type": "code",
   "execution_count": 16,
   "id": "3786f949-8654-4922-91ed-8442b07b5eb9",
   "metadata": {},
   "outputs": [
    {
     "name": "stdout",
     "output_type": "stream",
     "text": [
      "a= 50 b= 120\n",
      "A soma de a e B vale= 170\n"
     ]
    }
   ],
   "source": [
    "a=50; b=120;\n",
    "print(\"a=\",a,end=\" \"),print(\"b=\",b);\n",
    "print(\"A soma de a e B vale=\",(a+b))\n"
   ]
  },
  {
   "cell_type": "code",
   "execution_count": 17,
   "id": "c1ab1c76-b0e7-40a3-83dd-3ff6f07a5c1b",
   "metadata": {},
   "outputs": [
    {
     "name": "stdout",
     "output_type": "stream",
     "text": [
      "a= 50 b= 120 A soma de a e B vale= 170\n"
     ]
    }
   ],
   "source": [
    "a=50; b=120;\n",
    "print(\"a=\",a,end=\" \"),print(\"b=\",b,end=\" \");\n",
    "print(\"A soma de a e B vale=\",(a+b))"
   ]
  },
  {
   "cell_type": "code",
   "execution_count": 20,
   "id": "dfd3b720-532e-418f-afdd-e64ad3f28ebb",
   "metadata": {},
   "outputs": [
    {
     "name": "stdout",
     "output_type": "stream",
     "text": [
      "a= 50 e b= 120."
     ]
    }
   ],
   "source": [
    "a=50; b=120;\n",
    "print(\"a=\",a,end=\" e \"),print(\"b=\",b,end=\".\");\n"
   ]
  },
  {
   "cell_type": "code",
   "execution_count": 29,
   "id": "72446811-659d-4cdd-b3a6-228df7bd81d0",
   "metadata": {},
   "outputs": [
    {
     "name": "stdout",
     "output_type": "stream",
     "text": [
      "a= 50 e b= 120. A soma de a e B vale= 170."
     ]
    }
   ],
   "source": [
    "a=50; b=120;\n",
    "print(\"a=\",a,end=\" e \"),print(\"b=\",b,end=\". \"); print(\"A soma de a e B vale=\",(a+b),end=\".\")"
   ]
  },
  {
   "cell_type": "code",
   "execution_count": 30,
   "id": "b046b2ee-4093-4f8b-b6a3-afeadb00b9ed",
   "metadata": {},
   "outputs": [
    {
     "name": "stdout",
     "output_type": "stream",
     "text": [
      "a= 50 e b= 120. A soma de a e B vale= 170."
     ]
    }
   ],
   "source": [
    "a=50; b=120;print(\"a=\",a,end=\" e \"),print(\"b=\",b,end=\". \"); print(\"A soma de a e B vale=\",(a+b),end=\".\")"
   ]
  },
  {
   "cell_type": "code",
   "execution_count": 37,
   "id": "47976fa7-a2ac-45c8-a017-e9164c11ebba",
   "metadata": {},
   "outputs": [
    {
     "name": "stdout",
     "output_type": "stream",
     "text": [
      "a= 50 e b= 120. A soma de 50 e 120 vale= 170."
     ]
    }
   ],
   "source": [
    "a=50; b=120;print(\"a=\",a,end=\" e \"),print(\"b=\",b,end=\". \"); print(\"A soma de\" ,a, \"e\" ,b, \"vale=\",(a+b),end=\".\")"
   ]
  },
  {
   "cell_type": "code",
   "execution_count": 38,
   "id": "346508eb-e20d-4ef7-8936-3315ba334618",
   "metadata": {},
   "outputs": [
    {
     "name": "stdout",
     "output_type": "stream",
     "text": [
      "a= 30 e b= 50. A soma de 30 e 50 vale= 80."
     ]
    }
   ],
   "source": [
    "a=30; b=50;print(\"a=\",a,end=\" e \"),print(\"b=\",b,end=\". \"); print(\"A soma de\" ,a, \"e\" ,b, \"vale=\",(a+b),end=\".\")"
   ]
  },
  {
   "cell_type": "code",
   "execution_count": 1,
   "id": "ff3da232-7a72-4145-b4de-da9ad5d12ca3",
   "metadata": {},
   "outputs": [
    {
     "name": "stdout",
     "output_type": "stream",
     "text": [
      "a soma de 50 e 120 vale 170\n"
     ]
    }
   ],
   "source": [
    "a=50;b=120;print(\"a soma de\",a,\"e\",b,\"vale\",(a+b))"
   ]
  }
 ],
 "metadata": {
  "kernelspec": {
   "display_name": "Python 3 (ipykernel)",
   "language": "python",
   "name": "python3"
  },
  "language_info": {
   "codemirror_mode": {
    "name": "ipython",
    "version": 3
   },
   "file_extension": ".py",
   "mimetype": "text/x-python",
   "name": "python",
   "nbconvert_exporter": "python",
   "pygments_lexer": "ipython3",
   "version": "3.9.13"
  }
 },
 "nbformat": 4,
 "nbformat_minor": 5
}
