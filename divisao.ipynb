{
 "cells": [
  {
   "cell_type": "code",
   "execution_count": 18,
   "id": "e93e46c6-e1c4-4e18-a7ca-d14ea9eb857f",
   "metadata": {},
   "outputs": [
    {
     "name": "stdout",
     "output_type": "stream",
     "text": [
      "O Produto vale: 9.0\n"
     ]
    }
   ],
   "source": [
    "a=36\n",
    "b=4\n",
    "print(\"A diferença vale:\",(a/b))"
   ]
  },
  {
   "cell_type": "code",
   "execution_count": 33,
   "id": "cf63a857-f25e-4647-8eec-2329d275802b",
   "metadata": {},
   "outputs": [
    {
     "name": "stdout",
     "output_type": "stream",
     "text": [
      "a= 36 \n",
      "b= 4 \n",
      "A diferença entre a e b vale: 9\n"
     ]
    }
   ],
   "source": [
    "a=36\n",
    "b=4\n",
    "print(\"a=\",a, \"\\nb=\",b, \"\\nA diferença entre a e b vale:\", int(a/b))"
   ]
  },
  {
   "cell_type": "code",
   "execution_count": 22,
   "id": "38e5c12a-e1b7-43da-968c-5ee8982d796f",
   "metadata": {},
   "outputs": [
    {
     "name": "stdout",
     "output_type": "stream",
     "text": [
      "a= 100\n",
      "b= 5\n",
      "A diferença entre a e b vale: 20\n"
     ]
    }
   ],
   "source": [
    "a=100\n",
    "b=5\n",
    "print(\"a=\",a)\n",
    "print(\"b=\",b)\n",
    "print(\"A diferença entre a e b vale:\",int(a/b))"
   ]
  },
  {
   "cell_type": "code",
   "execution_count": 1,
   "id": "ff3da232-7a72-4145-b4de-da9ad5d12ca3",
   "metadata": {},
   "outputs": [
    {
     "name": "stdout",
     "output_type": "stream",
     "text": [
      "a soma de 50 e 120 vale 170\n"
     ]
    }
   ],
   "source": [
    "a=50;b=120;print(\"a soma de\",a,\"e\",b,\"vale\",(a+b))"
   ]
  },
  {
   "cell_type": "code",
   "execution_count": null,
   "id": "144cb729-0925-430c-8872-63b317dccb60",
   "metadata": {},
   "outputs": [],
   "source": []
  }
 ],
 "metadata": {
  "kernelspec": {
   "display_name": "Python 3 (ipykernel)",
   "language": "python",
   "name": "python3"
  },
  "language_info": {
   "codemirror_mode": {
    "name": "ipython",
    "version": 3
   },
   "file_extension": ".py",
   "mimetype": "text/x-python",
   "name": "python",
   "nbconvert_exporter": "python",
   "pygments_lexer": "ipython3",
   "version": "3.9.13"
  }
 },
 "nbformat": 4,
 "nbformat_minor": 5
}
