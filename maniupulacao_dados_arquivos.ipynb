{
 "cells": [
  {
   "cell_type": "code",
   "execution_count": 8,
   "id": "2f780dd3-a3a2-4136-b9ab-2397159d1ea3",
   "metadata": {},
   "outputs": [
    {
     "name": "stdout",
     "output_type": "stream",
     "text": [
      "Arquivo aberto com sucesso!\n"
     ]
    }
   ],
   "source": [
    "arquivo=open(\"teste.txt\")\n",
    "print(\"Arquivo aberto com sucesso!\")"
   ]
  },
  {
   "cell_type": "code",
   "execution_count": 9,
   "id": "c6b287a8-c08d-4e85-b8cc-fa931eeb7153",
   "metadata": {},
   "outputs": [
    {
     "name": "stdout",
     "output_type": "stream",
     "text": [
      "Arquivo aberto com sucesso!\n"
     ]
    }
   ],
   "source": [
    "open(\"D:\\\\Downloads\\\\arquivo.txt\",\"r\") \n",
    "print(\"Arquivo aberto com sucesso!\")"
   ]
  },
  {
   "cell_type": "code",
   "execution_count": null,
   "id": "dfef8a3b-c391-49cc-b0f9-0bd9d841627b",
   "metadata": {},
   "outputs": [],
   "source": []
  },
  {
   "cell_type": "code",
   "execution_count": null,
   "id": "d0450cec-9cc9-4846-9417-4bb261828809",
   "metadata": {},
   "outputs": [],
   "source": [
    "#open(“/home/usuario/arquivo.txt”) – utilizado em ambientes Linux."
   ]
  },
  {
   "cell_type": "code",
   "execution_count": 12,
   "id": "7b1bda3a-b61b-44c5-8594-3b19df2c3c1a",
   "metadata": {},
   "outputs": [],
   "source": [
    "import os"
   ]
  },
  {
   "cell_type": "code",
   "execution_count": 14,
   "id": "6ddcf545-406e-41db-8b82-a0afa298fcd5",
   "metadata": {},
   "outputs": [
    {
     "name": "stdout",
     "output_type": "stream",
     "text": [
      "dados1.txt\n",
      "D:\\Faculdade\\Data Science Academy\\Desenvolvimento Rápido de Aplicações em Python\\dados1.txt\n",
      "arquivo1\n"
     ]
    }
   ],
   "source": [
    "#para o arquivo dados1.txt\n",
    "arquivo1=open(\"dados1.txt\",\"r\") #caminho relativo\n",
    "arquivo2=open(\"D:\\\\Faculdade\\\\Data Science Academy\\\\Desenvolvimento Rápido de Aplicações em Python\\\\dados1.txt\",\"r\") #caminho absoluto\n",
    "\n",
    "#para o arquivo dados2.txt\n",
    "arquivo3=open(\"dados2.txt\",\"r\") #caminho relativo\n",
    "arquivo4=open(\"D:\\\\Faculdade\\\\Data Science Academy\\\\Desenvolvimento Rápido de Aplicações em Python\\\\dados2.txt\",\"r\") #caminho absoluto\n",
    "\n",
    "print(os.path.relpath(arquivo1.name))\n",
    "print(os.path.abspath(arquivo1.name))\n",
    "print(\"arquivo1\")"
   ]
  },
  {
   "cell_type": "code",
   "execution_count": null,
   "id": "ae2f8a47-2317-4d98-a6ee-6bbd47d0e47d",
   "metadata": {},
   "outputs": [],
   "source": [
    "\"\"\"\"\n",
    "r: leitura (read)\n",
    "w: escrita (write)\n",
    "a: acrescentar (append)\n",
    "\n",
    "Caractere\tSignificado\n",
    "'r' -> Abre o arquivo para leitura (default).\n",
    "\n",
    "'w' -> Abre o arquivo para escrita, truncando o arquivo primeiro.\n",
    "\n",
    "'x' -> Cria um arquivo para escrita e falha, caso ele exista.\n",
    "\n",
    "'a' -> Abre o arquivo para escrita, acrescentando conteúdo ao final do arquivo, caso ele exista.\n",
    "\n",
    "'b' -> Modo binário.\n",
    "\n",
    "'t' -> Modo texto (default).\n",
    "\n",
    "'+' -> Abre o arquivo para atualização (leitura ou escrita).\n",
    "\"\"\"\""
   ]
  },
  {
   "cell_type": "code",
   "execution_count": 16,
   "id": "445d5779-0b67-49ac-96b6-988bee792ba5",
   "metadata": {},
   "outputs": [
    {
     "name": "stdout",
     "output_type": "stream",
     "text": [
      "Nome do arquivo: dados1.txt\n",
      "Modo do arquivo: r\n",
      "Arquivo Fechado? False\n",
      "Arquivo Fechado? True\n"
     ]
    }
   ],
   "source": [
    "arquivo=open(\"dados1.txt\",\"r\") \n",
    "print(\"Nome do arquivo:\", arquivo.name)\n",
    "print(\"Modo do arquivo:\", arquivo.mode )\n",
    "print(\"Arquivo Fechado?\", arquivo.closed)\n",
    "arquivo.close()\n",
    "print(\"Arquivo Fechado?\", arquivo.closed)"
   ]
  },
  {
   "cell_type": "markdown",
   "id": "6deb47b6-4763-42bc-8715-3e2368341ea6",
   "metadata": {},
   "source": [
    "\n",
    "Read()\n",
    "Retorna todo o conteúdo de um arquivo como uma única string.\n",
    "\n",
    "Readline()\n",
    "Retorna uma linha de arquivo, incluindo caracteres de final (\\n ou \\r\\n), e avança o cursor para a próxima.\n",
    "\n",
    "Readlines()\n",
    "Retorna uma lista em que cada item da lista é uma linha do arquivo."
   ]
  },
  {
   "cell_type": "code",
   "execution_count": 17,
   "id": "3f467d9d-b29a-4b35-8c4b-91ef6f0827ad",
   "metadata": {},
   "outputs": [
    {
     "name": "stdout",
     "output_type": "stream",
     "text": [
      "Tipo do conteúdo: <class 'str'>\n",
      "Conteúdo retornado pelo read:\n",
      "'dados 1'\n"
     ]
    }
   ],
   "source": [
    "arquivo=open(\"dados1.txt\",\"r\")\n",
    "conteudo=arquivo.read()\n",
    "\n",
    "print(\"Tipo do conteúdo:\", type(conteudo))\n",
    "print(\"Conteúdo retornado pelo read:\" )\n",
    "print(repr(conteudo))\n",
    "\n",
    "arquivo.close()\n"
   ]
  },
  {
   "cell_type": "code",
   "execution_count": 21,
   "id": "da6813eb-3e04-41d5-97e0-139c473ffd11",
   "metadata": {},
   "outputs": [
    {
     "name": "stdout",
     "output_type": "stream",
     "text": [
      "Tipo do conteúdo: <class 'str'>\n",
      "Conteúdo retornado pelo read:\n",
      "'dados 1\\n'\n",
      "Próximo conteúdo retornado:\n",
      "'\\n'\n"
     ]
    }
   ],
   "source": [
    "arquivo=open(\"dados1.txt\",\"r\")\n",
    "conteudo=arquivo.readline()\n",
    "\n",
    "print(\"Tipo do conteúdo:\", type(conteudo))\n",
    "print(\"Conteúdo retornado pelo readline:\" )\n",
    "print(repr(conteudo))\n",
    "\n",
    "proximo_conteudo=arquivo.readline()\n",
    "print(\"Próximo conteúdo retornado:\")\n",
    "print(repr(proximo_conteudo))\n",
    "arquivo.close()"
   ]
  },
  {
   "cell_type": "code",
   "execution_count": 23,
   "id": "2fe5fe24-f819-4ac1-a64a-e9521391619d",
   "metadata": {},
   "outputs": [
    {
     "name": "stdout",
     "output_type": "stream",
     "text": [
      "Tipo do conteúdo: <class 'list'>\n",
      "Conteúdo retornado pelo readlines:\n",
      "['dados 1\\n', '\\n', 'parabens vc conseguiu']\n"
     ]
    }
   ],
   "source": [
    "arquivo=open(\"dados1.txt\",\"r\")\n",
    "conteudo=arquivo.readlines()\n",
    "\n",
    "print(\"Tipo do conteúdo:\", type(conteudo))\n",
    "print(\"Conteúdo retornado pelo readlines:\" )\n",
    "print(repr(conteudo))\n",
    "\n",
    "arquivo.close()"
   ]
  },
  {
   "cell_type": "code",
   "execution_count": 26,
   "id": "25f326c6-13b6-4eef-8c65-2cc1f595a2a8",
   "metadata": {},
   "outputs": [
    {
     "name": "stdout",
     "output_type": "stream",
     "text": [
      "Iterando sobre o arquivo\n",
      "'dados 1\\n'\n",
      "'\\n'\n",
      "'parabens vc conseguiu'\n"
     ]
    }
   ],
   "source": [
    "arquivo=open(\"dados1.txt\",\"r\")\n",
    "print(\"Iterando sobre o arquivo\")\n",
    "for linha in arquivo:\n",
    "    print(repr(linha))\n",
    "arquivo.close()\n"
   ]
  },
  {
   "cell_type": "code",
   "execution_count": null,
   "id": "fcc9cad0-7047-420d-a69d-87d2b2054443",
   "metadata": {},
   "outputs": [],
   "source": [
    "arquivo=open(\"dados1.txt\",\"r\")\n",
    "conteudo=arquivo.read()\n",
    "\n",
    "print(\"Tipo do conteúdo:\", type(conteudo))\n",
    "print(\"Todo o conteúdo do arquivo:\"'\\n' )\n",
    "print(repr(conteudo))\n",
    "\n",
    "conteudo_releitura=arquivo.read()\n",
    "print(\"Releitura de todo o arquivo:\"'\\n')\n",
    "print(repr(proximo_conteudo))\n",
    "arquivo.close()"
   ]
  },
  {
   "cell_type": "code",
   "execution_count": 3,
   "id": "66ca7bc9-e8ca-467e-a5a2-4b1d091adf1e",
   "metadata": {},
   "outputs": [
    {
     "name": "stdout",
     "output_type": "stream",
     "text": [
      "Todo o conteúdo do arquivo:\n",
      "'dados 1\\n\\nparabens vc conseguiu' \n",
      "\n",
      "Releitura de todo o conteúdo do arquivo:\n",
      "\n",
      "'' \n",
      "\n",
      "Todo o conteúdo do arquivo novamente:\n",
      "'dados 1\\n\\nparabens vc conseguiu' \n",
      "\n",
      "Releitura de todo o conteúdo do arquivo após o SEEK:\n",
      "\n",
      "'dados 1\\n\\nparabens vc conseguiu' \n",
      "\n"
     ]
    }
   ],
   "source": [
    "arquivo=open(\"dados1.txt\",\"r\")\n",
    "conteudo=arquivo.read()\n",
    "\n",
    "print(\"Todo o conteúdo do arquivo:\")\n",
    "print(repr(conteudo), '\\n')\n",
    "\n",
    "conteudo_releitura=arquivo.read()\n",
    "print(\"Releitura de todo o conteúdo do arquivo:\"'\\n')\n",
    "print(repr(conteudo_releitura), '\\n')\n",
    "arquivo.close()\n",
    "\n",
    "\n",
    "arquivo_reaberto=open(\"dados1.txt\",\"r\")\n",
    "conteudo_reaberto=arquivo_reaberto.read()\n",
    "\n",
    "print(\"Todo o conteúdo do arquivo novamente:\")\n",
    "print(repr(conteudo_reaberto), '\\n')\n",
    "\n",
    "arquivo_reaberto.seek(0)\n",
    "conteudo_seek=arquivo_reaberto.read()\n",
    "print(\"Releitura de todo o conteúdo do arquivo após o SEEK:\"'\\n')\n",
    "print(repr(conteudo_seek), '\\n')\n",
    "arquivo_reaberto.close()\n",
    "      \n",
    "      \n",
    "      "
   ]
  },
  {
   "cell_type": "code",
   "execution_count": 9,
   "id": "3d0db66d-6480-4f35-a4b1-22c871f79155",
   "metadata": {
    "tags": []
   },
   "outputs": [],
   "source": [
    "arquivo_escrita=open(\"dados_write.txt\",\"w\")\n",
    "arquivo_escrita.write(\"Conteúdo primeira linha\")\n",
    "arquivo_escrita.write(\"\\nConteúdo primeira linha\")\n",
    "arquivo_escrita.close()"
   ]
  },
  {
   "cell_type": "code",
   "execution_count": 10,
   "id": "f540e910-4fe0-427e-ad40-26cfa3a37baa",
   "metadata": {
    "tags": []
   },
   "outputs": [],
   "source": [
    "linhas=[\"Conteúdo da terceira linha\",\n",
    "        \"\\nConteúdo quarta linha\"]\n",
    "\n",
    "arquivo_escrita=open(\"dados_writelines.txt\",\"w\")\n",
    "arquivo_escrita.writelines(linhas)\n",
    "arquivo_escrita.close()"
   ]
  },
  {
   "cell_type": "code",
   "execution_count": 11,
   "id": "e03c0d02-7855-4a43-8755-3300de597603",
   "metadata": {
    "tags": []
   },
   "outputs": [],
   "source": [
    "arquivo_escrita=open(\"dados_write.txt\",\"a\")\n",
    "arquivo_escrita.write(\"\\nConteúdo adicional\")\n",
    "arquivo_escrita.close()"
   ]
  },
  {
   "cell_type": "code",
   "execution_count": null,
   "id": "edbbf230-b6d9-4b0c-bcfc-569468105704",
   "metadata": {},
   "outputs": [],
   "source": [
    "with open(caminho, modo) as nome: (seu código indentado) # fechar o arquivo automaticamente sem usar o .close()"
   ]
  },
  {
   "cell_type": "code",
   "execution_count": 14,
   "id": "de5b7e72-0ae7-4ef3-8413-3fad7137c552",
   "metadata": {
    "tags": []
   },
   "outputs": [
    {
     "name": "stdout",
     "output_type": "stream",
     "text": [
      "Iterando sobre o arquivo.\n",
      "Conteúdo primeira linha\n",
      "\n",
      "Conteúdo segunda linha\n",
      "Fim do arquivo. dados1.txt\n"
     ]
    }
   ],
   "source": [
    "print(\"Iterando sobre o arquivo.\")\n",
    "with open(\"dados1.txt\", \"r\") as arquivo:\n",
    "    for linha in arquivo:\n",
    "        print(linha)\n",
    "    print(\"Fim do arquivo.\", arquivo.name)\n"
   ]
  },
  {
   "cell_type": "code",
   "execution_count": null,
   "id": "8790cff1-5c5c-4c01-ad4e-32bcc11aa8c7",
   "metadata": {},
   "outputs": [],
   "source": []
  }
 ],
 "metadata": {
  "kernelspec": {
   "display_name": "Python 3 (ipykernel)",
   "language": "python",
   "name": "python3"
  },
  "language_info": {
   "codemirror_mode": {
    "name": "ipython",
    "version": 3
   },
   "file_extension": ".py",
   "mimetype": "text/x-python",
   "name": "python",
   "nbconvert_exporter": "python",
   "pygments_lexer": "ipython3",
   "version": "3.10.12"
  }
 },
 "nbformat": 4,
 "nbformat_minor": 5
}
