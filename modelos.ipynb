{
 "cells": [
  {
   "cell_type": "code",
   "execution_count": 1,
   "id": "1bb83ddb-b88d-4728-b5d6-b31ed3f7dc04",
   "metadata": {
    "tags": []
   },
   "outputs": [],
   "source": [
    "class Variavel:\n",
    "\n",
    "    def __init__(self, posicao_inicial, tamanho, codigo, descricao):\n",
    "        self.posicao_inicial = posicao_inicial\n",
    "        self.tamanho = tamanho\n",
    "        self.codigo = codigo\n",
    "        self.descricao = descricao\n",
    "        self.categoria = []\n",
    "\n",
    "    def add_categoria(self, categoria):\n",
    "        # categoria = dict {'categoria_tipo': tipo, 'categoria_descricao_tipo': descricao}\n",
    "        self.categoria.append(categoria)\n",
    "\n",
    "    def __str__(self):\n",
    "        return self.codigo + \" - \" + self.descricao"
   ]
  },
  {
   "cell_type": "code",
   "execution_count": null,
   "id": "660151f6-aa08-4c10-8de8-5c7ff72a301e",
   "metadata": {},
   "outputs": [],
   "source": []
  }
 ],
 "metadata": {
  "kernelspec": {
   "display_name": "Python 3 (ipykernel)",
   "language": "python",
   "name": "python3"
  },
  "language_info": {
   "codemirror_mode": {
    "name": "ipython",
    "version": 3
   },
   "file_extension": ".py",
   "mimetype": "text/x-python",
   "name": "python",
   "nbconvert_exporter": "python",
   "pygments_lexer": "ipython3",
   "version": "3.10.12"
  }
 },
 "nbformat": 4,
 "nbformat_minor": 5
}
