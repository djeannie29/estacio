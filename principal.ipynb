{
 "cells": [
  {
   "cell_type": "code",
   "execution_count": null,
   "id": "a30ad084-8073-4629-8d35-d397f539b04f",
   "metadata": {},
   "outputs": [],
   "source": [
    "import xlrd\n",
    "from programa.modelos import Variavel\n",
    "\n",
    "planilha = xlrd.open_workbook(\"dados/dicionario_pessoas.xls\")\n",
    "primeira_aba = planilha.sheet_by_index(0)\n",
    "# print(\"Nome:\", primeira_aba.name)\n",
    "# print(\"Num linhas:\", primeira_aba.nrows)\n",
    "# print(\"Num colunas:\", primeira_aba.ncols)\n",
    "#\n",
    "variaveis = []\n",
    "nova_variavel = None\n",
    "for idx, linha in enumerate(primeira_aba.get_rows()):\n",
    "    print(linha)\n",
    "    primeira_celula = linha[0]  # Atributos da celula: ctype e value\n",
    "    if primeira_celula.ctype == 2:  # number\n",
    "        # Nova variavel\n",
    "        if nova_variavel:\n",
    "            # Guarda a ultima variavel criada\n",
    "            variaveis.append(nova_variavel)\n",
    "        # Variaveis do construtor\n",
    "        posicao_inicial = linha[0].value\n",
    "        tamanho = linha[1].value\n",
    "        codigo = linha[2].value\n",
    "        descricao = linha[4].value\n",
    "        nova_variavel = Variavel(posicao_inicial, tamanho, codigo, descricao)\n",
    "        # Variaveis da primeira categoria\n",
    "        categoria_tipo = linha[5].value\n",
    "        categoria_descricao_tipo = linha[6].value\n",
    "        nova_variavel.add_categoria({'categoria_tipo': categoria_tipo, 'categoria_descricao_tipo': categoria_descricao_tipo})\n",
    "    else:\n",
    "        if nova_variavel:\n",
    "            # Variaveis das demais categorias\n",
    "            categoria_tipo = linha[5].value\n",
    "            categoria_descricao_tipo = linha[6].value\n",
    "            nova_variavel.add_categoria({'categoria_tipo': categoria_tipo, 'categoria_descricao_tipo': categoria_descricao_tipo})\n",
    "\n",
    "    # if idx > 50:\n",
    "    #     break\n",
    "#\n",
    "print('Total de variaveis', len(variaveis))\n",
    "for variavel in variaveis:\n",
    "    print(variavel)\n",
    "    for categ in variavel.categoria:\n",
    "        print('\\t', categ)\n"
   ]
  }
 ],
 "metadata": {
  "kernelspec": {
   "display_name": "Python 3 (ipykernel)",
   "language": "python",
   "name": "python3"
  },
  "language_info": {
   "codemirror_mode": {
    "name": "ipython",
    "version": 3
   },
   "file_extension": ".py",
   "mimetype": "text/x-python",
   "name": "python",
   "nbconvert_exporter": "python",
   "pygments_lexer": "ipython3",
   "version": "3.10.12"
  }
 },
 "nbformat": 4,
 "nbformat_minor": 5
}
