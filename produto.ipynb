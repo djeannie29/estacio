{
 "cells": [
  {
   "cell_type": "code",
   "execution_count": 14,
   "id": "e93e46c6-e1c4-4e18-a7ca-d14ea9eb857f",
   "metadata": {},
   "outputs": [
    {
     "name": "stdout",
     "output_type": "stream",
     "text": [
      "O Produto vale: 200\n"
     ]
    }
   ],
   "source": [
    "a=10\n",
    "b=20\n",
    "print(\"O Produto vale:\",(a*b))"
   ]
  },
  {
   "cell_type": "code",
   "execution_count": 15,
   "id": "cf63a857-f25e-4647-8eec-2329d275802b",
   "metadata": {},
   "outputs": [
    {
     "name": "stdout",
     "output_type": "stream",
     "text": [
      "a= 10\n",
      "b= 20\n",
      "A diferença entre a e b vale: -10\n"
     ]
    }
   ],
   "source": [
    "a=10\n",
    "b=20\n",
    "print(\"a=\",a)\n",
    "print(\"b=\",b)\n",
    "print(\"A diferença entre a e b vale:\",(a*b))"
   ]
  },
  {
   "cell_type": "code",
   "execution_count": 16,
   "id": "38e5c12a-e1b7-43da-968c-5ee8982d796f",
   "metadata": {},
   "outputs": [
    {
     "name": "stdout",
     "output_type": "stream",
     "text": [
      "a= 40\n",
      "b= 50\n",
      "A diferença entre a e b vale: 2000\n"
     ]
    }
   ],
   "source": [
    "a=40\n",
    "b=50\n",
    "print(\"a=\",a)\n",
    "print(\"b=\",b)\n",
    "print(\"A diferença entre a e b vale:\",(a*b))"
   ]
  },
  {
   "cell_type": "code",
   "execution_count": 10,
   "id": "32fb6cca-211a-44f3-bc92-a2a15b799634",
   "metadata": {},
   "outputs": [
    {
     "name": "stdout",
     "output_type": "stream",
     "text": [
      "A soma de 30 e 70 vale: 300\n"
     ]
    }
   ],
   "source": []
  },
  {
   "cell_type": "code",
   "execution_count": null,
   "id": "ff3da232-7a72-4145-b4de-da9ad5d12ca3",
   "metadata": {},
   "outputs": [],
   "source": []
  }
 ],
 "metadata": {
  "kernelspec": {
   "display_name": "Python 3 (ipykernel)",
   "language": "python",
   "name": "python3"
  },
  "language_info": {
   "codemirror_mode": {
    "name": "ipython",
    "version": 3
   },
   "file_extension": ".py",
   "mimetype": "text/x-python",
   "name": "python",
   "nbconvert_exporter": "python",
   "pygments_lexer": "ipython3",
   "version": "3.9.13"
  }
 },
 "nbformat": 4,
 "nbformat_minor": 5
}
