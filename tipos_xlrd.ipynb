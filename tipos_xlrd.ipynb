{
 "cells": [
  {
   "cell_type": "code",
   "execution_count": null,
   "id": "356e64d0-9dbd-49d1-b002-62a68446ef67",
   "metadata": {},
   "outputs": [],
   "source": [
    "(\n",
    "    XL_CELL_EMPTY,\n",
    "    XL_CELL_TEXT,\n",
    "    XL_CELL_NUMBER,\n",
    "    XL_CELL_DATE,\n",
    "    XL_CELL_BOOLEAN,\n",
    "    XL_CELL_ERROR,\n",
    "    XL_CELL_BLANK,\n",
    ") = range(7)\n",
    "\n",
    "ctype_text = {\n",
    "    XL_CELL_EMPTY: 'empty',\n",
    "    XL_CELL_TEXT: 'text',\n",
    "    XL_CELL_NUMBER: 'number',\n",
    "    XL_CELL_DATE: 'xldate',\n",
    "    XL_CELL_BOOLEAN: 'bool',\n",
    "    XL_CELL_ERROR: 'error',\n",
    "    XL_CELL_BLANK: 'blank',\n",
    "}\n"
   ]
  }
 ],
 "metadata": {
  "kernelspec": {
   "display_name": "Python 3 (ipykernel)",
   "language": "python",
   "name": "python3"
  },
  "language_info": {
   "codemirror_mode": {
    "name": "ipython",
    "version": 3
   },
   "file_extension": ".py",
   "mimetype": "text/x-python",
   "name": "python",
   "nbconvert_exporter": "python",
   "pygments_lexer": "ipython3",
   "version": "3.10.12"
  }
 },
 "nbformat": 4,
 "nbformat_minor": 5
}
